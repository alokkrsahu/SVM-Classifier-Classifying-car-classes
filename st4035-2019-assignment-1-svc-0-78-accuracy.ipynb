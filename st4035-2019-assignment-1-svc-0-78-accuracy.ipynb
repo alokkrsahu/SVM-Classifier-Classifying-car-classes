{
 "cells": [
  {
   "cell_type": "code",
   "execution_count": 1,
   "metadata": {
    "_cell_guid": "79c7e3d0-c299-4dcb-8224-4455121ee9b0",
    "_uuid": "d629ff2d2480ee46fbb7e2d37f6b5fab8052498a",
    "execution": {
     "iopub.execute_input": "2020-09-15T18:54:38.880559Z",
     "iopub.status.busy": "2020-09-15T18:54:38.879598Z",
     "iopub.status.idle": "2020-09-15T18:54:40.226351Z",
     "shell.execute_reply": "2020-09-15T18:54:40.225723Z"
    },
    "papermill": {
     "duration": 1.365576,
     "end_time": "2020-09-15T18:54:40.226484",
     "exception": false,
     "start_time": "2020-09-15T18:54:38.860908",
     "status": "completed"
    },
    "tags": []
   },
   "outputs": [],
   "source": [
    "\n",
    "\"\"\"\n",
    "@author: Alok Kumar Sahu\n",
    "@email : alok.kr.sahu@outlook.com\n",
    "@Linkedin : www.linkedin.com/in/alokkrsahu\n",
    "\"\"\"\n",
    "import os\n",
    "import pandas as pd\n",
    "from sklearn.svm import SVC\n",
    "from sklearn.pipeline import make_pipeline\n",
    "from sklearn.preprocessing import StandardScaler\n",
    "from statsmodels.stats.outliers_influence import variance_inflation_factor\n",
    "\n",
    "clf = make_pipeline(StandardScaler(), SVC(gamma='auto'))\n",
    "\n",
    "path = (\"../input/st4035-2019-assignment-1/\")\n",
    "train = pd.read_csv(os.path.join(path,\"vehicle_train.csv\"))\n",
    "test = pd.read_csv(os.path.join(path,\"vehicle_test.csv\"))\n",
    "label = pd.read_csv(os.path.join(path,\"vehicle_training_labels.csv\"))\n",
    "train = train.drop(['ID'],axis = 1)\n",
    "test = test.drop(['ID'],axis = 1)"
   ]
  },
  {
   "cell_type": "code",
   "execution_count": null,
   "metadata": {
    "papermill": {
     "duration": 0.005708,
     "end_time": "2020-09-15T18:54:40.238387",
     "exception": false,
     "start_time": "2020-09-15T18:54:40.232679",
     "status": "completed"
    },
    "tags": []
   },
   "outputs": [],
   "source": []
  },
  {
   "cell_type": "code",
   "execution_count": 2,
   "metadata": {
    "execution": {
     "iopub.execute_input": "2020-09-15T18:54:40.322339Z",
     "iopub.status.busy": "2020-09-15T18:54:40.256003Z",
     "iopub.status.idle": "2020-09-15T18:54:40.366149Z",
     "shell.execute_reply": "2020-09-15T18:54:40.364970Z"
    },
    "papermill": {
     "duration": 0.122237,
     "end_time": "2020-09-15T18:54:40.366306",
     "exception": false,
     "start_time": "2020-09-15T18:54:40.244069",
     "status": "completed"
    },
    "tags": []
   },
   "outputs": [],
   "source": [
    "vif = pd.DataFrame()\n",
    "vif[\"VIF Factor\"] = [variance_inflation_factor(train.values, i) for i in range(train.shape[1])]\n",
    "vif[\"features\"] = train.columns"
   ]
  },
  {
   "cell_type": "code",
   "execution_count": 3,
   "metadata": {
    "execution": {
     "iopub.execute_input": "2020-09-15T18:54:40.388971Z",
     "iopub.status.busy": "2020-09-15T18:54:40.385864Z",
     "iopub.status.idle": "2020-09-15T18:54:40.429691Z",
     "shell.execute_reply": "2020-09-15T18:54:40.428358Z"
    },
    "papermill": {
     "duration": 0.055787,
     "end_time": "2020-09-15T18:54:40.429820",
     "exception": false,
     "start_time": "2020-09-15T18:54:40.374033",
     "status": "completed"
    },
    "tags": []
   },
   "outputs": [
    {
     "name": "stdout",
     "output_type": "stream",
     "text": [
      "               Comp   Circ  D.Circ  Rad.Ra  Pr.Axis.Ra  Max.L.Ra  Scat.Ra  \\\n",
      "Comp           True  False   False   False       False     False     True   \n",
      "Circ          False   True   False   False       False     False     True   \n",
      "D.Circ        False  False    True   False       False     False     True   \n",
      "Rad.Ra        False  False   False    True       False     False    False   \n",
      "Pr.Axis.Ra    False  False   False   False        True     False    False   \n",
      "Max.L.Ra      False  False   False   False       False      True    False   \n",
      "Scat.Ra        True   True    True   False       False     False     True   \n",
      "Elong         False  False   False   False       False     False    False   \n",
      "Pr.Axis.Rect   True   True    True   False       False     False     True   \n",
      "Max.L.Rect    False   True   False   False       False     False     True   \n",
      "Sc.Var.Maxis  False   True    True    True       False     False     True   \n",
      "Sc.Var.maxis   True   True    True   False       False     False     True   \n",
      "Ra.Gyr        False   True   False   False       False     False     True   \n",
      "Skew.Maxis    False  False   False   False       False     False    False   \n",
      "Skew.maxis    False  False   False   False       False     False    False   \n",
      "Kurt.maxis    False  False   False   False       False     False    False   \n",
      "Kurt.Maxis    False  False   False   False       False     False    False   \n",
      "Holl.Ra       False  False   False   False       False     False    False   \n",
      "\n",
      "              Elong  Pr.Axis.Rect  Max.L.Rect  Sc.Var.Maxis  Sc.Var.maxis  \\\n",
      "Comp          False          True       False         False          True   \n",
      "Circ          False          True        True          True          True   \n",
      "D.Circ        False          True       False          True          True   \n",
      "Rad.Ra        False         False       False          True         False   \n",
      "Pr.Axis.Ra    False         False       False         False         False   \n",
      "Max.L.Ra      False         False       False         False         False   \n",
      "Scat.Ra       False          True        True          True          True   \n",
      "Elong          True         False       False         False         False   \n",
      "Pr.Axis.Rect  False          True        True          True          True   \n",
      "Max.L.Rect    False          True        True         False         False   \n",
      "Sc.Var.Maxis  False          True       False          True          True   \n",
      "Sc.Var.maxis  False          True       False          True          True   \n",
      "Ra.Gyr        False          True        True         False         False   \n",
      "Skew.Maxis    False         False       False         False         False   \n",
      "Skew.maxis    False         False       False         False         False   \n",
      "Kurt.maxis    False         False       False         False         False   \n",
      "Kurt.Maxis    False         False       False         False         False   \n",
      "Holl.Ra       False         False       False         False         False   \n",
      "\n",
      "              Ra.Gyr  Skew.Maxis  Skew.maxis  Kurt.maxis  Kurt.Maxis  Holl.Ra  \n",
      "Comp           False       False       False       False       False    False  \n",
      "Circ            True       False       False       False       False    False  \n",
      "D.Circ         False       False       False       False       False    False  \n",
      "Rad.Ra         False       False       False       False       False    False  \n",
      "Pr.Axis.Ra     False       False       False       False       False    False  \n",
      "Max.L.Ra       False       False       False       False       False    False  \n",
      "Scat.Ra         True       False       False       False       False    False  \n",
      "Elong          False       False       False       False       False    False  \n",
      "Pr.Axis.Rect    True       False       False       False       False    False  \n",
      "Max.L.Rect      True       False       False       False       False    False  \n",
      "Sc.Var.Maxis   False       False       False       False       False    False  \n",
      "Sc.Var.maxis   False       False       False       False       False    False  \n",
      "Ra.Gyr          True       False       False       False       False    False  \n",
      "Skew.Maxis     False        True       False       False       False    False  \n",
      "Skew.maxis     False       False        True       False       False    False  \n",
      "Kurt.maxis     False       False       False        True       False    False  \n",
      "Kurt.Maxis     False       False       False       False        True     True  \n",
      "Holl.Ra        False       False       False       False        True     True  \n"
     ]
    }
   ],
   "source": [
    "corr= train.corr()\n",
    "print(corr > 0.80)"
   ]
  },
  {
   "cell_type": "code",
   "execution_count": 4,
   "metadata": {
    "execution": {
     "iopub.execute_input": "2020-09-15T18:54:40.447057Z",
     "iopub.status.busy": "2020-09-15T18:54:40.446224Z",
     "iopub.status.idle": "2020-09-15T18:54:40.464765Z",
     "shell.execute_reply": "2020-09-15T18:54:40.465723Z"
    },
    "papermill": {
     "duration": 0.029079,
     "end_time": "2020-09-15T18:54:40.465927",
     "exception": false,
     "start_time": "2020-09-15T18:54:40.436848",
     "status": "completed"
    },
    "tags": []
   },
   "outputs": [
    {
     "data": {
      "text/html": [
       "<div>\n",
       "<style scoped>\n",
       "    .dataframe tbody tr th:only-of-type {\n",
       "        vertical-align: middle;\n",
       "    }\n",
       "\n",
       "    .dataframe tbody tr th {\n",
       "        vertical-align: top;\n",
       "    }\n",
       "\n",
       "    .dataframe thead th {\n",
       "        text-align: right;\n",
       "    }\n",
       "</style>\n",
       "<table border=\"1\" class=\"dataframe\">\n",
       "  <thead>\n",
       "    <tr style=\"text-align: right;\">\n",
       "      <th></th>\n",
       "      <th>VIF Factor</th>\n",
       "      <th>features</th>\n",
       "    </tr>\n",
       "  </thead>\n",
       "  <tbody>\n",
       "    <tr>\n",
       "      <th>14</th>\n",
       "      <td>3.430993</td>\n",
       "      <td>Skew.maxis</td>\n",
       "    </tr>\n",
       "    <tr>\n",
       "      <th>15</th>\n",
       "      <td>4.473739</td>\n",
       "      <td>Kurt.maxis</td>\n",
       "    </tr>\n",
       "    <tr>\n",
       "      <th>5</th>\n",
       "      <td>15.655015</td>\n",
       "      <td>Max.L.Ra</td>\n",
       "    </tr>\n",
       "    <tr>\n",
       "      <th>2</th>\n",
       "      <td>409.802761</td>\n",
       "      <td>D.Circ</td>\n",
       "    </tr>\n",
       "    <tr>\n",
       "      <th>12</th>\n",
       "      <td>413.418276</td>\n",
       "      <td>Ra.Gyr</td>\n",
       "    </tr>\n",
       "    <tr>\n",
       "      <th>0</th>\n",
       "      <td>693.962083</td>\n",
       "      <td>Comp</td>\n",
       "    </tr>\n",
       "    <tr>\n",
       "      <th>7</th>\n",
       "      <td>959.716168</td>\n",
       "      <td>Elong</td>\n",
       "    </tr>\n",
       "    <tr>\n",
       "      <th>4</th>\n",
       "      <td>973.501001</td>\n",
       "      <td>Pr.Axis.Ra</td>\n",
       "    </tr>\n",
       "    <tr>\n",
       "      <th>3</th>\n",
       "      <td>997.977411</td>\n",
       "      <td>Rad.Ra</td>\n",
       "    </tr>\n",
       "    <tr>\n",
       "      <th>13</th>\n",
       "      <td>1135.371576</td>\n",
       "      <td>Skew.Maxis</td>\n",
       "    </tr>\n",
       "    <tr>\n",
       "      <th>11</th>\n",
       "      <td>1541.973157</td>\n",
       "      <td>Sc.Var.maxis</td>\n",
       "    </tr>\n",
       "    <tr>\n",
       "      <th>10</th>\n",
       "      <td>1635.395711</td>\n",
       "      <td>Sc.Var.Maxis</td>\n",
       "    </tr>\n",
       "    <tr>\n",
       "      <th>9</th>\n",
       "      <td>2629.039447</td>\n",
       "      <td>Max.L.Rect</td>\n",
       "    </tr>\n",
       "    <tr>\n",
       "      <th>1</th>\n",
       "      <td>2751.039448</td>\n",
       "      <td>Circ</td>\n",
       "    </tr>\n",
       "    <tr>\n",
       "      <th>8</th>\n",
       "      <td>5854.970609</td>\n",
       "      <td>Pr.Axis.Rect</td>\n",
       "    </tr>\n",
       "    <tr>\n",
       "      <th>16</th>\n",
       "      <td>10531.614288</td>\n",
       "      <td>Kurt.Maxis</td>\n",
       "    </tr>\n",
       "    <tr>\n",
       "      <th>17</th>\n",
       "      <td>11121.163590</td>\n",
       "      <td>Holl.Ra</td>\n",
       "    </tr>\n",
       "    <tr>\n",
       "      <th>6</th>\n",
       "      <td>11649.578711</td>\n",
       "      <td>Scat.Ra</td>\n",
       "    </tr>\n",
       "  </tbody>\n",
       "</table>\n",
       "</div>"
      ],
      "text/plain": [
       "      VIF Factor      features\n",
       "14      3.430993    Skew.maxis\n",
       "15      4.473739    Kurt.maxis\n",
       "5      15.655015      Max.L.Ra\n",
       "2     409.802761        D.Circ\n",
       "12    413.418276        Ra.Gyr\n",
       "0     693.962083          Comp\n",
       "7     959.716168         Elong\n",
       "4     973.501001    Pr.Axis.Ra\n",
       "3     997.977411        Rad.Ra\n",
       "13   1135.371576    Skew.Maxis\n",
       "11   1541.973157  Sc.Var.maxis\n",
       "10   1635.395711  Sc.Var.Maxis\n",
       "9    2629.039447    Max.L.Rect\n",
       "1    2751.039448          Circ\n",
       "8    5854.970609  Pr.Axis.Rect\n",
       "16  10531.614288    Kurt.Maxis\n",
       "17  11121.163590       Holl.Ra\n",
       "6   11649.578711       Scat.Ra"
      ]
     },
     "execution_count": 4,
     "metadata": {},
     "output_type": "execute_result"
    }
   ],
   "source": [
    "vif.sort_values(by = 'VIF Factor')"
   ]
  },
  {
   "cell_type": "code",
   "execution_count": 5,
   "metadata": {
    "execution": {
     "iopub.execute_input": "2020-09-15T18:54:40.488221Z",
     "iopub.status.busy": "2020-09-15T18:54:40.487360Z",
     "iopub.status.idle": "2020-09-15T18:54:40.538047Z",
     "shell.execute_reply": "2020-09-15T18:54:40.537383Z"
    },
    "papermill": {
     "duration": 0.062955,
     "end_time": "2020-09-15T18:54:40.538240",
     "exception": false,
     "start_time": "2020-09-15T18:54:40.475285",
     "status": "completed"
    },
    "tags": []
   },
   "outputs": [
    {
     "name": "stderr",
     "output_type": "stream",
     "text": [
      "/opt/conda/lib/python3.7/site-packages/sklearn/utils/validation.py:72: DataConversionWarning: A column-vector y was passed when a 1d array was expected. Please change the shape of y to (n_samples, ), for example using ravel().\n",
      "  return f(**kwargs)\n"
     ]
    },
    {
     "data": {
      "text/plain": [
       "Pipeline(steps=[('standardscaler', StandardScaler()),\n",
       "                ('svc', SVC(gamma='auto'))])"
      ]
     },
     "execution_count": 5,
     "metadata": {},
     "output_type": "execute_result"
    }
   ],
   "source": [
    "clf.fit(train, label)"
   ]
  },
  {
   "cell_type": "code",
   "execution_count": 6,
   "metadata": {
    "execution": {
     "iopub.execute_input": "2020-09-15T18:54:40.565906Z",
     "iopub.status.busy": "2020-09-15T18:54:40.565227Z",
     "iopub.status.idle": "2020-09-15T18:54:40.953675Z",
     "shell.execute_reply": "2020-09-15T18:54:40.953083Z"
    },
    "papermill": {
     "duration": 0.405147,
     "end_time": "2020-09-15T18:54:40.953808",
     "exception": false,
     "start_time": "2020-09-15T18:54:40.548661",
     "status": "completed"
    },
    "tags": []
   },
   "outputs": [],
   "source": [
    "svms = pd.DataFrame(clf.predict(test))\n",
    "svms.index.name = 'ID' \n",
    "svms.index += 1\n",
    "svms.to_csv('./Submission.csv', index = True,header=['Class'])"
   ]
  }
 ],
 "metadata": {
  "kernelspec": {
   "display_name": "Python 3",
   "language": "python",
   "name": "python3"
  },
  "language_info": {
   "codemirror_mode": {
    "name": "ipython",
    "version": 3
   },
   "file_extension": ".py",
   "mimetype": "text/x-python",
   "name": "python",
   "nbconvert_exporter": "python",
   "pygments_lexer": "ipython3",
   "version": "3.7.6"
  },
  "papermill": {
   "duration": 7.512502,
   "end_time": "2020-09-15T18:54:41.069862",
   "environment_variables": {},
   "exception": null,
   "input_path": "__notebook__.ipynb",
   "output_path": "__notebook__.ipynb",
   "parameters": {},
   "start_time": "2020-09-15T18:54:33.557360",
   "version": "2.1.0"
  }
 },
 "nbformat": 4,
 "nbformat_minor": 4
}
